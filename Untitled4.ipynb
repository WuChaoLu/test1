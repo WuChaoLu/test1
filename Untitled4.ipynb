{
 "cells": [
  {
   "cell_type": "code",
   "execution_count": 2,
   "metadata": {},
   "outputs": [
    {
     "name": "stdout",
     "output_type": "stream",
     "text": [
      "兌獎發票年月份：107年05-06月\n",
      "[['特別獎', '20048019'], ['特獎', '02142605'], ['頭獎', '21240109、78323535、18549847'], ['增開六獎', '706、574']]\n"
     ]
    },
    {
     "data": {
      "text/html": [
       "<div>\n",
       "<style scoped>\n",
       "    .dataframe tbody tr th:only-of-type {\n",
       "        vertical-align: middle;\n",
       "    }\n",
       "\n",
       "    .dataframe tbody tr th {\n",
       "        vertical-align: top;\n",
       "    }\n",
       "\n",
       "    .dataframe thead th {\n",
       "        text-align: right;\n",
       "    }\n",
       "</style>\n",
       "<table border=\"1\" class=\"dataframe\">\n",
       "  <thead>\n",
       "    <tr style=\"text-align: right;\">\n",
       "      <th></th>\n",
       "      <th>獎別</th>\n",
       "      <th>中獎號碼</th>\n",
       "    </tr>\n",
       "  </thead>\n",
       "  <tbody>\n",
       "    <tr>\n",
       "      <th>0</th>\n",
       "      <td>特別獎</td>\n",
       "      <td>20048019</td>\n",
       "    </tr>\n",
       "    <tr>\n",
       "      <th>1</th>\n",
       "      <td>特獎</td>\n",
       "      <td>02142605</td>\n",
       "    </tr>\n",
       "    <tr>\n",
       "      <th>2</th>\n",
       "      <td>頭獎</td>\n",
       "      <td>21240109、78323535、18549847</td>\n",
       "    </tr>\n",
       "    <tr>\n",
       "      <th>3</th>\n",
       "      <td>增開六獎</td>\n",
       "      <td>706、574</td>\n",
       "    </tr>\n",
       "  </tbody>\n",
       "</table>\n",
       "</div>"
      ],
      "text/plain": [
       "     獎別                        中獎號碼\n",
       "0   特別獎                    20048019\n",
       "1    特獎                    02142605\n",
       "2    頭獎  21240109、78323535、18549847\n",
       "3  增開六獎                     706、574"
      ]
     },
     "execution_count": 2,
     "metadata": {},
     "output_type": "execute_result"
    }
   ],
   "source": [
    "import os\n",
    "import requests\n",
    "import pandas as pd\n",
    "from bs4 import BeautifulSoup\n",
    "\n",
    "url = 'http://invoice.etax.nat.gov.tw/'\n",
    "response = requests.get(url) \t# GET 請求\n",
    "response.encoding = 'utf-8'\t\t# 解決中文問題\n",
    "# print(response.text) \t\t\t# HTML 架構\n",
    "\n",
    "soup = BeautifulSoup(response.text, 'lxml')\n",
    "div = soup.find('div', id='area1')\n",
    "title = div.find('h2', id='').text\n",
    "print('兌獎發票年月份：{}'.format(title))\n",
    "\n",
    "award_date = soup.find('p', class_='date')\n",
    "\n",
    "rows = soup.table.find_all('tr', recursive=False)\n",
    "colname , rows = rows[0] , rows[1:]\n",
    "colname = list(colname.stripped_strings)\n",
    "\n",
    "j=0\n",
    "for i, row in enumerate(rows):\n",
    "    kind = row.find('td', class_='title')\n",
    "    number = row.find('span', class_='t18Red')\n",
    "\n",
    "    kind = kind.text if kind else ''\n",
    "    number = number.text if number else ''\n",
    "    \n",
    "    if number != '':\n",
    "        rows[j] = [kind ,number]\n",
    "        j=j+1\n",
    "\n",
    "new_rows=rows[:j]\n",
    "print(new_rows)\n",
    "df = pd.DataFrame(new_rows, columns=colname)\n",
    "df"
   ]
  },
  {
   "cell_type": "code",
   "execution_count": 3,
   "metadata": {},
   "outputs": [
    {
     "name": "stdout",
     "output_type": "stream",
     "text": [
      "Save csv to C:\\Users\\lwj\\test\\test1\\taxcheck.csv\n"
     ]
    }
   ],
   "source": [
    "results = os.path.abspath('C:/Users/lwj/test/test1')\n",
    "if not os.path.exists(results):\n",
    "    os.makedirs(results)\n",
    "\n",
    "filename = os.path.join(results, 'taxcheck.csv')\n",
    "df.to_csv(filename, index=False)\n",
    "print('Save csv to {}'.format(filename))"
   ]
  },
  {
   "cell_type": "code",
   "execution_count": null,
   "metadata": {},
   "outputs": [],
   "source": []
  }
 ],
 "metadata": {
  "kernelspec": {
   "display_name": "Python 3",
   "language": "python",
   "name": "python3"
  },
  "language_info": {
   "codemirror_mode": {
    "name": "ipython",
    "version": 3
   },
   "file_extension": ".py",
   "mimetype": "text/x-python",
   "name": "python",
   "nbconvert_exporter": "python",
   "pygments_lexer": "ipython3",
   "version": "3.6.5"
  }
 },
 "nbformat": 4,
 "nbformat_minor": 2
}
